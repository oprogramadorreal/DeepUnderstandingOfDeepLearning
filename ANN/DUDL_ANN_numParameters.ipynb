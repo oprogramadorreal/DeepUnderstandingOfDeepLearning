{
 "cells": [
  {
   "cell_type": "markdown",
   "metadata": {
    "id": "bhWV8oes-wKR"
   },
   "source": [
    "# COURSE: A deep understanding of deep learning\n",
    "## SECTION: ANNs\n",
    "### LECTURE: Depth vs. breadth: number of parameters\n",
    "#### TEACHER: Mike X Cohen, sincxpress.com\n",
    "##### COURSE URL: udemy.com/course/deeplearning_x/?couponCode=202401"
   ]
  },
  {
   "cell_type": "code",
   "execution_count": 13,
   "metadata": {
    "id": "j7-LiwqUMGYL"
   },
   "outputs": [],
   "source": [
    "# import libraries\n",
    "import numpy as np\n",
    "import torch\n",
    "import torch.nn as nn"
   ]
  },
  {
   "cell_type": "code",
   "execution_count": 14,
   "metadata": {
    "id": "krQeh5wYMNla"
   },
   "outputs": [
    {
     "name": "stdout",
     "output_type": "stream",
     "text": [
      "Sequential(\n",
      "  (0): Linear(in_features=2, out_features=4, bias=True)\n",
      "  (1): Linear(in_features=4, out_features=3, bias=True)\n",
      ")\n",
      " \n",
      "Sequential(\n",
      "  (0): Linear(in_features=2, out_features=2, bias=True)\n",
      "  (1): Linear(in_features=2, out_features=2, bias=True)\n",
      "  (2): Linear(in_features=2, out_features=3, bias=True)\n",
      ")\n"
     ]
    }
   ],
   "source": [
    "# build two models\n",
    "\n",
    "widenet = nn.Sequential(\n",
    "    nn.Linear(2,4),  # hidden layer\n",
    "    nn.Linear(4,3),  # output layer\n",
    "    )\n",
    "\n",
    "\n",
    "deepnet = nn.Sequential(\n",
    "    nn.Linear(2,2),  # hidden layer\n",
    "    nn.Linear(2,2),  # hidden layer\n",
    "    nn.Linear(2,3),  # output layer\n",
    "    )\n",
    "\n",
    "# print them out to have a look\n",
    "print(widenet)\n",
    "print(' ')\n",
    "print(deepnet)"
   ]
  },
  {
   "cell_type": "code",
   "execution_count": 15,
   "metadata": {
    "id": "Rv5g3ISypDNk"
   },
   "outputs": [
    {
     "data": {
      "text/plain": [
       "Sequential(\n",
       "  (0): Linear(in_features=2, out_features=4, bias=True)\n",
       "  (1): Linear(in_features=4, out_features=3, bias=True)\n",
       ")"
      ]
     },
     "execution_count": 15,
     "metadata": {},
     "output_type": "execute_result"
    }
   ],
   "source": [
    "widenet"
   ]
  },
  {
   "cell_type": "markdown",
   "metadata": {
    "id": "ni8L4jRgopMO"
   },
   "source": [
    "# Peeking inside the network"
   ]
  },
  {
   "cell_type": "code",
   "execution_count": 16,
   "metadata": {
    "id": "lrKmii4Xmx-Z"
   },
   "outputs": [
    {
     "name": "stdout",
     "output_type": "stream",
     "text": [
      "('0.weight', Parameter containing:\n",
      "tensor([[-0.2531,  0.2776],\n",
      "        [-0.5376,  0.5588]], requires_grad=True))\n",
      " \n",
      "('0.bias', Parameter containing:\n",
      "tensor([-0.4553, -0.0657], requires_grad=True))\n",
      " \n",
      "('1.weight', Parameter containing:\n",
      "tensor([[0.2543, 0.5784],\n",
      "        [0.6473, 0.5576]], requires_grad=True))\n",
      " \n",
      "('1.bias', Parameter containing:\n",
      "tensor([0.1819, 0.5194], requires_grad=True))\n",
      " \n",
      "('2.weight', Parameter containing:\n",
      "tensor([[-0.3283, -0.0300],\n",
      "        [-0.2016, -0.6305],\n",
      "        [ 0.6783,  0.3498]], requires_grad=True))\n",
      " \n",
      "('2.bias', Parameter containing:\n",
      "tensor([0.2929, 0.4510, 0.1412], requires_grad=True))\n",
      " \n"
     ]
    }
   ],
   "source": [
    "# check out the parameters\n",
    "for p in deepnet.named_parameters():\n",
    "  print(p)\n",
    "  print(' ')"
   ]
  },
  {
   "cell_type": "code",
   "execution_count": 17,
   "metadata": {
    "id": "I811amwtouaY"
   },
   "outputs": [
    {
     "name": "stdout",
     "output_type": "stream",
     "text": [
      "There are 7 nodes in the wide network.\n",
      "There are 7 nodes in the deep network.\n"
     ]
    }
   ],
   "source": [
    "# count the number of nodes ( = the number of biases)\n",
    "\n",
    "# named_parameters() is an iterable that returns the tuple (name,numbers)\n",
    "numNodesInWide = 0\n",
    "for p in widenet.named_parameters():\n",
    "  if 'bias' in p[0]:\n",
    "    numNodesInWide += len(p[1])\n",
    "\n",
    "numNodesInDeep = 0\n",
    "for paramName,paramVect in deepnet.named_parameters():\n",
    "  if 'bias' in paramName:\n",
    "    numNodesInDeep += len(paramVect)\n",
    "\n",
    "\n",
    "print('There are %s nodes in the wide network.' %numNodesInWide)\n",
    "print('There are %s nodes in the deep network.' %numNodesInDeep)"
   ]
  },
  {
   "cell_type": "code",
   "execution_count": 18,
   "metadata": {
    "id": "FVuYUMy7spW9"
   },
   "outputs": [
    {
     "name": "stdout",
     "output_type": "stream",
     "text": [
      "Parameter containing:\n",
      "tensor([[ 0.4988, -0.0592],\n",
      "        [-0.3044, -0.3257],\n",
      "        [-0.4632,  0.6238],\n",
      "        [-0.4958, -0.6925]], requires_grad=True)\n",
      " \n",
      "Parameter containing:\n",
      "tensor([ 0.6051,  0.1004, -0.5772,  0.3669], requires_grad=True)\n",
      " \n",
      "Parameter containing:\n",
      "tensor([[ 0.4941,  0.4527,  0.3830,  0.3486],\n",
      "        [ 0.4044,  0.1171,  0.1493,  0.1864],\n",
      "        [ 0.2098,  0.3498, -0.0735, -0.2297]], requires_grad=True)\n",
      " \n",
      "Parameter containing:\n",
      "tensor([ 0.1371, -0.4980, -0.3378], requires_grad=True)\n",
      " \n"
     ]
    }
   ],
   "source": [
    "# just the parameters\n",
    "for p in widenet.parameters():\n",
    "  print(p)\n",
    "  print(' ')"
   ]
  },
  {
   "cell_type": "code",
   "execution_count": 19,
   "metadata": {
    "id": "xtTwxsVhirEq"
   },
   "outputs": [
    {
     "name": "stdout",
     "output_type": "stream",
     "text": [
      "This piece has 8 parameters\n",
      "This piece has 4 parameters\n",
      "This piece has 12 parameters\n",
      "This piece has 3 parameters\n",
      "\n",
      "\n",
      "Total of 27 parameters\n"
     ]
    }
   ],
   "source": [
    "# now count the total number of trainable parameters\n",
    "nparams = 0\n",
    "for p in widenet.parameters():\n",
    "  if p.requires_grad:\n",
    "    print('This piece has %s parameters' %p.numel())\n",
    "    nparams += p.numel()\n",
    "\n",
    "print('\\n\\nTotal of %s parameters'%nparams)"
   ]
  },
  {
   "cell_type": "code",
   "execution_count": 20,
   "metadata": {
    "id": "PKr2ARdWivz8"
   },
   "outputs": [
    {
     "name": "stdout",
     "output_type": "stream",
     "text": [
      "Widenet has 27 parameters\n",
      "Deepnet has 21 parameters\n"
     ]
    }
   ],
   "source": [
    "# btw, can also use list comprehension\n",
    "\n",
    "nparams = np.sum([ p.numel() for p in widenet.parameters() if p.requires_grad ])\n",
    "print('Widenet has %s parameters'%nparams)\n",
    "\n",
    "nparams = np.sum([ p.numel() for p in deepnet.parameters() if p.requires_grad ])\n",
    "print('Deepnet has %s parameters'%nparams)"
   ]
  },
  {
   "cell_type": "code",
   "execution_count": null,
   "metadata": {
    "id": "I9wsTcbrrYT7"
   },
   "outputs": [],
   "source": []
  },
  {
   "cell_type": "code",
   "execution_count": 21,
   "metadata": {
    "id": "_6GzhyxLUrYy"
   },
   "outputs": [
    {
     "data": {
      "text/plain": [
       "==========================================================================================\n",
       "Layer (type:depth-idx)                   Output Shape              Param #\n",
       "==========================================================================================\n",
       "Sequential                               [1, 3]                    --\n",
       "├─Linear: 1-1                            [1, 4]                    12\n",
       "├─Linear: 1-2                            [1, 3]                    15\n",
       "==========================================================================================\n",
       "Total params: 27\n",
       "Trainable params: 27\n",
       "Non-trainable params: 0\n",
       "Total mult-adds (Units.MEGABYTES): 0.00\n",
       "==========================================================================================\n",
       "Input size (MB): 0.00\n",
       "Forward/backward pass size (MB): 0.00\n",
       "Params size (MB): 0.00\n",
       "Estimated Total Size (MB): 0.00\n",
       "=========================================================================================="
      ]
     },
     "execution_count": 21,
     "metadata": {},
     "output_type": "execute_result"
    }
   ],
   "source": [
    "# A nice simple way to print out the model info.\n",
    "from torchinfo import summary\n",
    "summary(widenet,(1,2))\n",
    "\n",
    "\n",
    "### NOTE ABOUT THE CODE IN THIS CELL:\n",
    "# torchsummary is being replaced by torchinfo.\n",
    "# If you are importing these libraries on your own (via pip), then see the following website:\n",
    "#        https://pypi.org/project/torch-summary/\n",
    "# However, torchsummary will continue to be supported, so if the code in this cell works (meaning torchsummary is already installed), \n",
    "# then you don't need to do anything!"
   ]
  },
  {
   "cell_type": "code",
   "execution_count": null,
   "metadata": {
    "id": "KHlWL3_drYhT"
   },
   "outputs": [],
   "source": []
  }
 ],
 "metadata": {
  "colab": {
   "authorship_tag": "ABX9TyNp0/OYNZqgbUCz8Xrl2dyW",
   "collapsed_sections": [],
   "name": "DUDL_ANN_numParameters.ipynb",
   "provenance": [
    {
     "file_id": "1Q_oDw0aMA4QFKDnLxuqJp62P8oPMtO1R",
     "timestamp": 1618255245074
    },
    {
     "file_id": "1FtQ99beHYcDFDywLdaPgFm-KjBeI8PvD",
     "timestamp": 1615884593383
    }
   ]
  },
  "kernelspec": {
   "display_name": ".venv",
   "language": "python",
   "name": "python3"
  },
  "language_info": {
   "codemirror_mode": {
    "name": "ipython",
    "version": 3
   },
   "file_extension": ".py",
   "mimetype": "text/x-python",
   "name": "python",
   "nbconvert_exporter": "python",
   "pygments_lexer": "ipython3",
   "version": "3.11.9"
  }
 },
 "nbformat": 4,
 "nbformat_minor": 0
}
